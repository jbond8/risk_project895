{
 "cells": [
  {
   "cell_type": "markdown",
   "metadata": {},
   "source": [
    "# Part Three:\n",
    "Go to the FastAPI website and build a web app that will elicit a person's risk preferences using the Holt Laury procedure and the stepwise elicitation procedure.\n",
    "\n",
    "## Starting `main.py`\n",
    "\n",
    "1. To run the `fastapi` web app, please run the following command in your terminal:\n",
    "```python\n",
    "    fastapi dev main.py\n",
    "```\n",
    "2. Afterwards, please proceed to the following link where it is being locally run on your computer: http://127.0.0.1:8000\n",
    "\n",
    "## Walkthrough\n",
    "- A user may select the input stepwise or the auto-stepwise methods which were outlined in `ECON895_Project1_PART 1_Notebook.ipynb`. \n",
    "\n",
    "- Selecting the radio button for \"Input Stepwise Eliciation\" will display the options for setting lottery parameters before taking user input.\n",
    "\n",
    "- A user can select the...\n",
    "    1. Minimum amount of money\n",
    "    2. Maximum amount of money\n",
    "    3. How many additional lotteries they would like to complete (users get bored ya' know!)\n",
    "\n",
    "- After click on the `start` button, the user will be prompted a series of lotteries before seeing their piecewise linear utility functions.\n",
    "\n",
    "- Alternatively, a user may seelect  \"Auto Stepwise Elicitation\" will display the options for setting lottery parameters for preset utility functions.\n",
    "\n",
    "- A user can select the...\n",
    "    1. Minimum amount of money\n",
    "    2. Maximum amount of money\n",
    "    3. Utility function\n",
    "    4. Number of addiotional lotteries for the utility function\n",
    "\n",
    "- After clicking on the `Run Elicitation` button, the piecewises linear utility functions will be calculated.\n",
    "\n",
    "- For either *Input Stepwise Elicitation* or *Auto Stepwise Eliciation*, a utility plot may be generated for comparison of the piecewise linear utility function and a pre-selected utility function.\n",
    "\n",
    "- Finally, the Holt-Laury lotteries which would be selected by your piecewise linear function if it was ran through the Holt-Laury procedure can be eximaned by clicking the `Fetch Holt-Laury Lotteries` button."
   ]
  }
 ],
 "metadata": {
  "kernelspec": {
   "display_name": "base",
   "language": "python",
   "name": "python3"
  },
  "language_info": {
   "codemirror_mode": {
    "name": "ipython",
    "version": 3
   },
   "file_extension": ".py",
   "mimetype": "text/x-python",
   "name": "python",
   "nbconvert_exporter": "python",
   "pygments_lexer": "ipython3",
   "version": "3.12.4"
  }
 },
 "nbformat": 4,
 "nbformat_minor": 2
}
