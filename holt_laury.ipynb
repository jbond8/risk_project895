{
 "cells": [
  {
   "cell_type": "markdown",
   "metadata": {},
   "source": []
  },
  {
   "cell_type": "code",
   "execution_count": 1,
   "metadata": {},
   "outputs": [],
   "source": [
    "import helpers as hlpr\n",
    "import utility_functions as uf\n",
    "import lottery as lt\n",
    "import agent\n",
    "from functools import partial"
   ]
  },
  {
   "cell_type": "code",
   "execution_count": 2,
   "metadata": {},
   "outputs": [],
   "source": [
    "def print_HL_lottery(lottery):\n",
    "    p1 = lottery[0]['prob']\n",
    "    o1 = lottery[0]['out']\n",
    "    p2 = lottery[1]['prob']\n",
    "    o2 = lottery[1]['out']\n",
    "    print(f\"[{o1}]({p1}) : [{o2}]({p2})\", end = \"  \")   \n",
    "\n",
    "\n",
    "def print_HL_lottery_pair(lottery_pair):\n",
    "    first_lottery = lottery_pair[0]\n",
    "    second_lottery = lottery_pair[1]\n",
    "    print_HL_lottery(first_lottery)  \n",
    "    print_HL_lottery(second_lottery)\n",
    "    print()\n",
    "    \n",
    "def print_HL_lottery_pair_and_choice(lottery_pair, choice):\n",
    "    first_lottery = lottery_pair[0]\n",
    "    second_lottery = lottery_pair[1]\n",
    "    print_HL_lottery(first_lottery)  \n",
    "    if choice == 0:\n",
    "        print(\"--A\", end = \" \")\n",
    "        print_HL_lottery(second_lottery) \n",
    "        print()\n",
    "    else:\n",
    "        print(\"   \", end = \" \")\n",
    "        print_HL_lottery(second_lottery)\n",
    "        print(\"--B\")\n",
    "\n",
    "        \n",
    "def build_holt_laury_lotteries():\n",
    "    \"\"\"Returns list of Holt-Laury lottery pairs.\n",
    "    \n",
    "        returns:\n",
    "            holt_laury_lotteries, list of lists\n",
    "                inner list is a pair of lotteries for choice\n",
    "    \n",
    "    \"\"\"\n",
    "    #  Can we take advantage of the structure of lotteries in the Holt-Laury paper\n",
    "    pay_a_high = 200*0.25974025974026\n",
    "    pay_a_low = 160*0.25974025974026\n",
    "    pay_b_high = 100\n",
    "    pay_b_low =  10*0.25974025974026\n",
    "    # Now we can build holt_laury_lotteries\n",
    "    holt_laury_lotteries = []\n",
    "    p = 0.0\n",
    "    for k in range(9):\n",
    "        p = round(p + 0.10, 2)\n",
    "        lottery_a = [{'prob': p, 'out': pay_a_high}, {'prob': round(1.0-p, 2), 'out': pay_a_low}]\n",
    "        lottery_b = [{'prob': p, 'out': pay_b_high}, {'prob': round(1.0-p, 2), 'out': pay_b_low}]\n",
    "        holt_laury_lotteries.append([lottery_a, lottery_b])\n",
    "    return holt_laury_lotteries"
   ]
  },
  {
   "cell_type": "code",
   "execution_count": 3,
   "metadata": {},
   "outputs": [
    {
     "name": "stdout",
     "output_type": "stream",
     "text": [
      "[[{'prob': 0.1, 'out': 51.948051948052}, {'prob': 0.9, 'out': 41.5584415584416}], [{'prob': 0.1, 'out': 100}, {'prob': 0.9, 'out': 2.5974025974026}]]\n"
     ]
    }
   ],
   "source": [
    "holt_laury_lotteries = build_holt_laury_lotteries()\n",
    "\n",
    "print(holt_laury_lotteries[0])\n"
   ]
  },
  {
   "cell_type": "code",
   "execution_count": 4,
   "metadata": {},
   "outputs": [],
   "source": [
    "def get_lottery_choices_og(holt_laury_lotteries, u):\n",
    "    lottery_choices = []\n",
    "    for lottery_pair in holt_laury_lotteries:\n",
    "        k, eu = agent.lottery_choice(lottery_pair, u)\n",
    "        lottery_choices.append(k)\n",
    "    return lottery_choices\n",
    "\n",
    "#def get_lottery_choices3(holt_laury_lotteries, u):\n",
    "    lottery_choices = []\n",
    "    for lottery_pair in holt_laury_lotteries:\n",
    "        k, eu = lottery_choice_step(lottery_pair, u)\n",
    "        lottery_choices.append(k)\n",
    "    return lottery_choices\n",
    "\n",
    "#def lottery_pair_eucalc(lottery,piecewise):\n",
    "    lottery_pair_eu = []\n",
    "    for piece in piecewise:\n",
    "        x_min = piece[0].get(\"x_min\")\n",
    "        x_max = piece[0].get(\"x_max\")\n",
    "        if agent.expected_value(lottery) > x_min and agent.expected_value(lottery) < x_max:\n",
    "            eu = 0.0\n",
    "            for event in lottery:\n",
    "                eu += (piece[0].get(\"slope\") * event['out'] + piece[0].get(\"intercept\")) * event['prob']\n",
    "            lottery_pair_eu.append(eu)\n",
    "    return lottery_pair_eu\n",
    "\n",
    "\n",
    "#get_lottery_choices3(holt_laury_lotteries, x)"
   ]
  },
  {
   "cell_type": "code",
   "execution_count": 5,
   "metadata": {},
   "outputs": [],
   "source": [
    "def certainty_equivalent(lottery, piecewise, min_x, max_x, precision = .01):\n",
    "    \"\"\" Returns the certainty equivalent (ce) of a lottery.\n",
    "        \n",
    "            u(ce) = expected_utility(lottery, u)\n",
    "            \n",
    "            args:\n",
    "                lottery, list of dictionaries.\n",
    "                u, utility function defined over payoffs in dictionaries\n",
    "            returns:\n",
    "                ce, float, certainty equivalent\n",
    "            TODO: only tested on linear_utility, needs to be tested with other utility functions\n",
    "        \"\"\"\n",
    "    eu = 0.0\n",
    "    for event in lottery:\n",
    "        out = event['out']\n",
    "        for piece in piecewise:\n",
    "            if out > piece[0].get('x_min') and out < piece[0].get('x_max'):\n",
    "                eu += (piece[0].get(\"slope\") * event['out'] + piece[0].get(\"intercept\")) * event['prob']\n",
    "    #for event in lottery:\n",
    "     #   eu += (piece[0].get(\"slope\") * event['out'] + piece[0].get(\"intercept\")) * event['prob']\n",
    "    # now do a bisection search for x such that u(x) = eu\n",
    "    lower_bound = min_x\n",
    "    upper_bound = max_x\n",
    "    num_trys = 0\n",
    "    while(True):\n",
    "        num_trys += 1\n",
    "        u_upper = (piece[0].get(\"slope\") * upper_bound) + piece[0].get(\"intercept\")\n",
    "        u_lower = (piece[0].get(\"slope\") * lower_bound) + piece[0].get(\"intercept\")\n",
    "        try_this = .5*lower_bound + .5*upper_bound\n",
    "        u_try = (piece[0].get(\"slope\") * try_this) + piece[0].get(\"intercept\")\n",
    "        #print(f\"lb = {lower_bound}, try = {try_this}, ub = {upper_bound}\")\n",
    "        #print(f\" eu = {eu}, u({try_this}) = {u_try}\")\n",
    "        if hlpr.is_near_target(u_try, target = eu, precision = precision):\n",
    "            return try_this, u_try, eu, num_trys \n",
    "        if u_try < eu:\n",
    "            lower_bound = try_this\n",
    "        else:\n",
    "            upper_bound = try_this"
   ]
  },
  {
   "cell_type": "code",
   "execution_count": 6,
   "metadata": {},
   "outputs": [],
   "source": [
    "def get_lottery_choices(holt_laury_lotteries, piecewise):\n",
    "    lottery_choices = []\n",
    "    for lottery_pair in holt_laury_lotteries:\n",
    "        k = lottery_choice_step(lottery_pair, piecewise)[0]\n",
    "        lottery_choices.append(k)\n",
    "    return lottery_choices\n",
    "\n",
    "def lottery_pair_eucalc(lottery_pair, piecewise):\n",
    "    lottery_pair_eu = []\n",
    "    for lottery in lottery_pair:\n",
    "        eu = 0.0\n",
    "        for event in lottery:\n",
    "            out = event['out']\n",
    "            for piece in piecewise:\n",
    "                if out > piece[0].get('x_min') and out <= piece[0].get('x_max'):\n",
    "                    eu += (piece[0].get(\"slope\") * event['out'] + piece[0].get(\"intercept\")) * event['prob']\n",
    "        lottery_pair_eu.append(eu)\n",
    "    return lottery_pair_eu\n",
    "\n",
    "def lottery_choice_step(lottery_pair, piecewise):\n",
    "    \"\"\" Choose the lottery with the highest expected utility\n",
    "        from lottery_list using utility function u.\n",
    "        \n",
    "        returns:\n",
    "            lottery_index, eu  expected utility of the lottery\n",
    "    \"\"\"\n",
    "    lottery_index = None\n",
    "    list_of_expected_u = []\n",
    "    lottery_pair_utility = lottery_pair_eucalc(lottery_pair,piecewise)\n",
    "    list_of_expected_u.append(lottery_pair_utility)\n",
    "    choice = max(lottery_pair_utility)\n",
    "    lottery_index = list_of_expected_u[0].index(choice)\n",
    "    return lottery_index, choice"
   ]
  },
  {
   "cell_type": "code",
   "execution_count": 10,
   "metadata": {},
   "outputs": [
    {
     "name": "stdout",
     "output_type": "stream",
     "text": [
      "[51.948051948052](0.1) : [41.5584415584416](0.9)  --A [100](0.1) : [2.5974025974026](0.9)  \n",
      "[51.948051948052](0.2) : [41.5584415584416](0.8)  --A [100](0.2) : [2.5974025974026](0.8)  \n",
      "[51.948051948052](0.3) : [41.5584415584416](0.7)  --A [100](0.3) : [2.5974025974026](0.7)  \n",
      "[51.948051948052](0.4) : [41.5584415584416](0.6)  --A [100](0.4) : [2.5974025974026](0.6)  \n",
      "[51.948051948052](0.5) : [41.5584415584416](0.5)  --A [100](0.5) : [2.5974025974026](0.5)  \n",
      "[51.948051948052](0.6) : [41.5584415584416](0.4)  --A [100](0.6) : [2.5974025974026](0.4)  \n",
      "[51.948051948052](0.7) : [41.5584415584416](0.3)      [100](0.7) : [2.5974025974026](0.3)  --B\n",
      "[51.948051948052](0.8) : [41.5584415584416](0.2)      [100](0.8) : [2.5974025974026](0.2)  --B\n",
      "[51.948051948052](0.9) : [41.5584415584416](0.1)      [100](0.9) : [2.5974025974026](0.1)  --B\n",
      "[None, None, None, None, None, None, None, None, None]\n"
     ]
    }
   ],
   "source": [
    "import risk\n",
    "\n",
    "y = [   [     {       \"slope\": 0.48,       \"intercept\": 0,       \"x_min\": 0,       \"x_max\": 6.25     }   ],   [     {       \"slope\": 0.26666666666666666,       \"intercept\": 1.3333333333333333,       \"x_min\": 6.25,       \"x_max\": 25     }   ],   [     {       \"slope\": 0.16,       \"intercept\": 4,       \"x_min\": 25,       \"x_max\": 56.25     }   ],   [     {       \"slope\": 0.11428571428571428,       \"intercept\": 6.571428571428572,       \"x_min\": 56.25,       \"x_max\": 100     }   ] ]\n",
    "result = []\n",
    "util = y\n",
    "hl_lots = build_holt_laury_lotteries()\n",
    "choices = get_lottery_choices(hl_lots, y)\n",
    "for lottery_pair, choice in zip(holt_laury_lotteries, choices):\n",
    "    result.append(print_HL_lottery_pair_and_choice(lottery_pair, choice))"
   ]
  },
  {
   "cell_type": "code",
   "execution_count": 8,
   "metadata": {},
   "outputs": [
    {
     "name": "stdout",
     "output_type": "stream",
     "text": [
      "[51.948051948052](0.1) : [41.5584415584416](0.9)  --A [100](0.1) : [2.5974025974026](0.9)  \n",
      "[51.948051948052](0.2) : [41.5584415584416](0.8)  --A [100](0.2) : [2.5974025974026](0.8)  \n",
      "[51.948051948052](0.3) : [41.5584415584416](0.7)  --A [100](0.3) : [2.5974025974026](0.7)  \n",
      "[51.948051948052](0.4) : [41.5584415584416](0.6)  --A [100](0.4) : [2.5974025974026](0.6)  \n",
      "[51.948051948052](0.5) : [41.5584415584416](0.5)  --A [100](0.5) : [2.5974025974026](0.5)  \n",
      "[51.948051948052](0.6) : [41.5584415584416](0.4)  --A [100](0.6) : [2.5974025974026](0.4)  \n",
      "[51.948051948052](0.7) : [41.5584415584416](0.3)      [100](0.7) : [2.5974025974026](0.3)  --B\n",
      "[51.948051948052](0.8) : [41.5584415584416](0.2)      [100](0.8) : [2.5974025974026](0.2)  --B\n",
      "[51.948051948052](0.9) : [41.5584415584416](0.1)      [100](0.9) : [2.5974025974026](0.1)  --B\n"
     ]
    }
   ],
   "source": [
    "util = uf.crra_utility\n",
    "choices = get_lottery_choices_og(holt_laury_lotteries, util)\n",
    "for lottery_pair, choice in zip(holt_laury_lotteries, choices):\n",
    "    print_HL_lottery_pair_and_choice(lottery_pair, choice)"
   ]
  }
 ],
 "metadata": {
  "kernelspec": {
   "display_name": "base",
   "language": "python",
   "name": "python3"
  },
  "language_info": {
   "codemirror_mode": {
    "name": "ipython",
    "version": 3
   },
   "file_extension": ".py",
   "mimetype": "text/x-python",
   "name": "python",
   "nbconvert_exporter": "python",
   "pygments_lexer": "ipython3",
   "version": "3.12.4"
  }
 },
 "nbformat": 4,
 "nbformat_minor": 2
}
